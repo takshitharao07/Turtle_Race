{
 "cells": [
  {
   "cell_type": "markdown",
   "metadata": {},
   "source": [
    "# \"TURTLE RACE\""
   ]
  },
  {
   "cell_type": "code",
   "execution_count": 1,
   "metadata": {},
   "outputs": [
    {
     "name": "stdout",
     "output_type": "stream",
     "text": [
      "Orchid Turtle Won The Race\n"
     ]
    }
   ],
   "source": [
    "from turtle import Turtle\n",
    "from random import randint\n",
    "\n",
    "#Start the turtle\n",
    "t=Turtle()\n",
    "t.speed(10)\n",
    "t.penup()\n",
    "t.goto(-140,140)\n",
    "z=0\n",
    "\n",
    "#Draw the racing Track \n",
    "for x in range(15):\n",
    "    t.write(x,align='center')\n",
    "    t.right(90)\n",
    "    t.forward(10)\n",
    "    t.pendown()\n",
    "    t.forward(150)\n",
    "    t.penup()\n",
    "    t.backward(160)\n",
    "    t.left(90)\n",
    "    t.forward(25)\n",
    "\n",
    "#Draw a Finish Line\n",
    "t.goto(230, 160)\n",
    "t.write(\"Finish Line\", align='center')\n",
    "t.pendown()\n",
    "t.right(90)\n",
    "t.forward(200)\n",
    "\n",
    "#Create Turtles\n",
    "#Turtle 1\n",
    "t1=Turtle()    \n",
    "t1.penup()\n",
    "t1.goto(-160,104)\n",
    "t1.color('hot pink')\n",
    "t1.shape('turtle')\n",
    "\n",
    "#Turtle 2\n",
    "t2=Turtle()\n",
    "t2.penup()\n",
    "t2.goto(-160,66)\n",
    "t2.color('turquoise')\n",
    "t2.shape('turtle')\n",
    "\n",
    "#Turtle 3\n",
    "t3=Turtle()\n",
    "t3.penup()\n",
    "t3.goto(-160,28)\n",
    "t3.color('gold')\n",
    "t3.shape('turtle')\n",
    "\n",
    "#Turtle 4\n",
    "t4=Turtle()\n",
    "t4.penup()\n",
    "t4.goto(-160,0)\n",
    "t4.color('dark orchid')\n",
    "t4.shape('turtle')\n",
    "\n",
    "\n",
    "#Move the turtles forward\n",
    "for t in range(120):\n",
    "    t1.forward(randint(1,5))\n",
    "    t2.forward(randint(1,5))\n",
    "    t3.forward(randint(1,5))\n",
    "    t4.forward(randint(1,5)) \n",
    "\n",
    "#Declare the Winner\n",
    "if(t1.xcor())>= 220:\n",
    "    print(\"Pink Turtle Won The Race\")\n",
    "elif(t2.xcor())>= 220:\n",
    "    print(\"Blue Turtle Won The Race\")\n",
    "elif(t3.xcor())>= 220:\n",
    "    print(\"Yellow Turtle Won The Race\")\n",
    "else:\n",
    "    print(\"Orchid Turtle Won The Race\")"
   ]
  }
 ],
 "metadata": {
  "kernelspec": {
   "display_name": "Python 3",
   "language": "python",
   "name": "python3"
  },
  "language_info": {
   "codemirror_mode": {
    "name": "ipython",
    "version": 3
   },
   "file_extension": ".py",
   "mimetype": "text/x-python",
   "name": "python",
   "nbconvert_exporter": "python",
   "pygments_lexer": "ipython3",
   "version": "3.7.3"
  }
 },
 "nbformat": 4,
 "nbformat_minor": 2
}
